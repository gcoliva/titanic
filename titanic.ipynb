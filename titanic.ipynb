{
 "cells": [
  {
   "cell_type": "markdown",
   "metadata": {
    "papermill": {
     "duration": 0.030108,
     "end_time": "2022-04-09T03:33:19.441826",
     "exception": false,
     "start_time": "2022-04-09T03:33:19.411718",
     "status": "completed"
    },
    "tags": []
   },
   "source": [
    "# **Trabalho 1 - Visualização de Dados**\n",
    "\n",
    "**Grupo: **Cláudia Rodrigues, Gustavo Oliveira, Matheus Reck, Vinícius Valim"
   ]
  },
  {
   "cell_type": "markdown",
   "metadata": {
    "papermill": {
     "duration": 0.026517,
     "end_time": "2022-04-09T03:33:19.497013",
     "exception": false,
     "start_time": "2022-04-09T03:33:19.470496",
     "status": "completed"
    },
    "tags": []
   },
   "source": [
    "**Proposta:**\n",
    "Mostrar que é possível ordenar os passageiros por risco de vida com base no acidente ocorrido com o navio de passageiros britânico RMS Titanic, no dia 15 de abril de 1912. Deve-se utilizar apenas recursos baseados em gráficos (comuns na visualização de dados).\n",
    "\n",
    "**Fundo conceitual:**\n",
    "Poucos dias após o acidente, um novo navio de mesmo modelo fará uma viagem com mesmo local de partida e mesmo local de destino. Uma seguradora foi contratada para oferecer um seguro individual para os passageiros. Um consultor dessa seguradora solicitou a algumas startups de ciência de dados que elaborassem um modelo que ordene os passageiros do Titanic em ordem de risco de vida e, a partir disso, mostrar quais características são mais discriminates para isso. O consultor quer ver quais são as tais características e um resumo do modelo (com as equações mais relevantes)"
   ]
  },
  {
   "cell_type": "code",
   "execution_count": 1,
   "metadata": {
    "_cell_guid": "b1076dfc-b9ad-4769-8c92-a6c4dae69d19",
    "_uuid": "8f2839f25d086af736a60e9eeb907d3b93b6e0e5",
    "execution": {
     "iopub.execute_input": "2022-04-09T03:28:11.912351Z",
     "iopub.status.busy": "2022-04-09T03:28:11.911933Z",
     "iopub.status.idle": "2022-04-09T03:28:13.913998Z",
     "shell.execute_reply": "2022-04-09T03:28:13.912978Z",
     "shell.execute_reply.started": "2022-04-09T03:28:11.912287Z"
    },
    "papermill": {
     "duration": 1.969324,
     "end_time": "2022-04-09T03:33:21.494107",
     "exception": false,
     "start_time": "2022-04-09T03:33:19.524783",
     "status": "completed"
    },
    "tags": []
   },
   "outputs": [
    {
     "name": "stdout",
     "output_type": "stream",
     "text": [
      "/kaggle/input/titanic.csv\n"
     ]
    }
   ],
   "source": [
    "import numpy as np\n",
    "import pandas as pd\n",
    "\n",
    "import seaborn as sns\n",
    "import matplotlib.pyplot as plt\n",
    "import plotly.graph_objs as go\n",
    "import plotly.offline as py\n",
    "import os\n",
    "\n",
    "import warnings\n",
    "warnings.filterwarnings(\"ignore\")\n",
    "\n",
    "from collections import Counter\n",
    "from sklearn.preprocessing import LabelEncoder\n",
    "from sklearn import preprocessing\n",
    "\n",
    "for dirname, _, filenames in os.walk('/kaggle/input'):\n",
    "    for filename in filenames:\n",
    "        print(os.path.join(dirname, filename))"
   ]
  },
  {
   "cell_type": "code",
   "execution_count": 2,
   "metadata": {
    "_cell_guid": "79c7e3d0-c299-4dcb-8224-4455121ee9b0",
    "_uuid": "d629ff2d2480ee46fbb7e2d37f6b5fab8052498a",
    "execution": {
     "iopub.execute_input": "2022-04-09T03:28:13.91702Z",
     "iopub.status.busy": "2022-04-09T03:28:13.91666Z",
     "iopub.status.idle": "2022-04-09T03:28:13.95954Z",
     "shell.execute_reply": "2022-04-09T03:28:13.958585Z",
     "shell.execute_reply.started": "2022-04-09T03:28:13.916964Z"
    },
    "papermill": {
     "duration": 0.070835,
     "end_time": "2022-04-09T03:33:21.592962",
     "exception": false,
     "start_time": "2022-04-09T03:33:21.522127",
     "status": "completed"
    },
    "tags": []
   },
   "outputs": [
    {
     "data": {
      "text/html": [
       "<div>\n",
       "<style scoped>\n",
       "    .dataframe tbody tr th:only-of-type {\n",
       "        vertical-align: middle;\n",
       "    }\n",
       "\n",
       "    .dataframe tbody tr th {\n",
       "        vertical-align: top;\n",
       "    }\n",
       "\n",
       "    .dataframe thead th {\n",
       "        text-align: right;\n",
       "    }\n",
       "</style>\n",
       "<table border=\"1\" class=\"dataframe\">\n",
       "  <thead>\n",
       "    <tr style=\"text-align: right;\">\n",
       "      <th></th>\n",
       "      <th>Survived</th>\n",
       "      <th>Pclass</th>\n",
       "      <th>Name</th>\n",
       "      <th>Sex</th>\n",
       "      <th>Age</th>\n",
       "      <th>Siblings/Spouses Aboard</th>\n",
       "      <th>Parents/Children Aboard</th>\n",
       "      <th>Fare</th>\n",
       "    </tr>\n",
       "  </thead>\n",
       "  <tbody>\n",
       "    <tr>\n",
       "      <th>0</th>\n",
       "      <td>0</td>\n",
       "      <td>3</td>\n",
       "      <td>Mr. Owen Harris Braund</td>\n",
       "      <td>male</td>\n",
       "      <td>22.0</td>\n",
       "      <td>1</td>\n",
       "      <td>0</td>\n",
       "      <td>7.2500</td>\n",
       "    </tr>\n",
       "    <tr>\n",
       "      <th>1</th>\n",
       "      <td>1</td>\n",
       "      <td>1</td>\n",
       "      <td>Mrs. John Bradley (Florence Briggs Thayer) Cum...</td>\n",
       "      <td>female</td>\n",
       "      <td>38.0</td>\n",
       "      <td>1</td>\n",
       "      <td>0</td>\n",
       "      <td>71.2833</td>\n",
       "    </tr>\n",
       "    <tr>\n",
       "      <th>2</th>\n",
       "      <td>1</td>\n",
       "      <td>3</td>\n",
       "      <td>Miss. Laina Heikkinen</td>\n",
       "      <td>female</td>\n",
       "      <td>26.0</td>\n",
       "      <td>0</td>\n",
       "      <td>0</td>\n",
       "      <td>7.9250</td>\n",
       "    </tr>\n",
       "    <tr>\n",
       "      <th>3</th>\n",
       "      <td>1</td>\n",
       "      <td>1</td>\n",
       "      <td>Mrs. Jacques Heath (Lily May Peel) Futrelle</td>\n",
       "      <td>female</td>\n",
       "      <td>35.0</td>\n",
       "      <td>1</td>\n",
       "      <td>0</td>\n",
       "      <td>53.1000</td>\n",
       "    </tr>\n",
       "    <tr>\n",
       "      <th>4</th>\n",
       "      <td>0</td>\n",
       "      <td>3</td>\n",
       "      <td>Mr. William Henry Allen</td>\n",
       "      <td>male</td>\n",
       "      <td>35.0</td>\n",
       "      <td>0</td>\n",
       "      <td>0</td>\n",
       "      <td>8.0500</td>\n",
       "    </tr>\n",
       "    <tr>\n",
       "      <th>...</th>\n",
       "      <td>...</td>\n",
       "      <td>...</td>\n",
       "      <td>...</td>\n",
       "      <td>...</td>\n",
       "      <td>...</td>\n",
       "      <td>...</td>\n",
       "      <td>...</td>\n",
       "      <td>...</td>\n",
       "    </tr>\n",
       "    <tr>\n",
       "      <th>882</th>\n",
       "      <td>0</td>\n",
       "      <td>2</td>\n",
       "      <td>Rev. Juozas Montvila</td>\n",
       "      <td>male</td>\n",
       "      <td>27.0</td>\n",
       "      <td>0</td>\n",
       "      <td>0</td>\n",
       "      <td>13.0000</td>\n",
       "    </tr>\n",
       "    <tr>\n",
       "      <th>883</th>\n",
       "      <td>1</td>\n",
       "      <td>1</td>\n",
       "      <td>Miss. Margaret Edith Graham</td>\n",
       "      <td>female</td>\n",
       "      <td>19.0</td>\n",
       "      <td>0</td>\n",
       "      <td>0</td>\n",
       "      <td>30.0000</td>\n",
       "    </tr>\n",
       "    <tr>\n",
       "      <th>884</th>\n",
       "      <td>0</td>\n",
       "      <td>3</td>\n",
       "      <td>Miss. Catherine Helen Johnston</td>\n",
       "      <td>female</td>\n",
       "      <td>7.0</td>\n",
       "      <td>1</td>\n",
       "      <td>2</td>\n",
       "      <td>23.4500</td>\n",
       "    </tr>\n",
       "    <tr>\n",
       "      <th>885</th>\n",
       "      <td>1</td>\n",
       "      <td>1</td>\n",
       "      <td>Mr. Karl Howell Behr</td>\n",
       "      <td>male</td>\n",
       "      <td>26.0</td>\n",
       "      <td>0</td>\n",
       "      <td>0</td>\n",
       "      <td>30.0000</td>\n",
       "    </tr>\n",
       "    <tr>\n",
       "      <th>886</th>\n",
       "      <td>0</td>\n",
       "      <td>3</td>\n",
       "      <td>Mr. Patrick Dooley</td>\n",
       "      <td>male</td>\n",
       "      <td>32.0</td>\n",
       "      <td>0</td>\n",
       "      <td>0</td>\n",
       "      <td>7.7500</td>\n",
       "    </tr>\n",
       "  </tbody>\n",
       "</table>\n",
       "<p>887 rows × 8 columns</p>\n",
       "</div>"
      ],
      "text/plain": [
       "     Survived  Pclass                                               Name  \\\n",
       "0           0       3                             Mr. Owen Harris Braund   \n",
       "1           1       1  Mrs. John Bradley (Florence Briggs Thayer) Cum...   \n",
       "2           1       3                              Miss. Laina Heikkinen   \n",
       "3           1       1        Mrs. Jacques Heath (Lily May Peel) Futrelle   \n",
       "4           0       3                            Mr. William Henry Allen   \n",
       "..        ...     ...                                                ...   \n",
       "882         0       2                               Rev. Juozas Montvila   \n",
       "883         1       1                        Miss. Margaret Edith Graham   \n",
       "884         0       3                     Miss. Catherine Helen Johnston   \n",
       "885         1       1                               Mr. Karl Howell Behr   \n",
       "886         0       3                                 Mr. Patrick Dooley   \n",
       "\n",
       "        Sex   Age  Siblings/Spouses Aboard  Parents/Children Aboard     Fare  \n",
       "0      male  22.0                        1                        0   7.2500  \n",
       "1    female  38.0                        1                        0  71.2833  \n",
       "2    female  26.0                        0                        0   7.9250  \n",
       "3    female  35.0                        1                        0  53.1000  \n",
       "4      male  35.0                        0                        0   8.0500  \n",
       "..      ...   ...                      ...                      ...      ...  \n",
       "882    male  27.0                        0                        0  13.0000  \n",
       "883  female  19.0                        0                        0  30.0000  \n",
       "884  female   7.0                        1                        2  23.4500  \n",
       "885    male  26.0                        0                        0  30.0000  \n",
       "886    male  32.0                        0                        0   7.7500  \n",
       "\n",
       "[887 rows x 8 columns]"
      ]
     },
     "execution_count": 2,
     "metadata": {},
     "output_type": "execute_result"
    }
   ],
   "source": [
    "data = pd.read_csv('../input/titanic.csv')                 \n",
    "data"
   ]
  },
  {
   "cell_type": "code",
   "execution_count": 3,
   "metadata": {
    "execution": {
     "iopub.execute_input": "2022-04-09T03:28:13.960864Z",
     "iopub.status.busy": "2022-04-09T03:28:13.960568Z",
     "iopub.status.idle": "2022-04-09T03:28:13.971736Z",
     "shell.execute_reply": "2022-04-09T03:28:13.970606Z",
     "shell.execute_reply.started": "2022-04-09T03:28:13.960821Z"
    },
    "papermill": {
     "duration": 0.040902,
     "end_time": "2022-04-09T03:33:21.661545",
     "exception": false,
     "start_time": "2022-04-09T03:33:21.620643",
     "status": "completed"
    },
    "tags": []
   },
   "outputs": [],
   "source": [
    "label_survived = [str(k).replace('1','Sobreviventes').replace('0','Mortos') for k in Counter(data.Survived).keys()] #['Mortos','Sobreviventes']\n",
    "total_survived = data.Survived.count()\n",
    "distr_survived = [round(k/total_survived,2) for k in Counter(data.Survived).values()]"
   ]
  },
  {
   "cell_type": "code",
   "execution_count": 4,
   "metadata": {
    "execution": {
     "iopub.execute_input": "2022-04-09T03:28:13.974128Z",
     "iopub.status.busy": "2022-04-09T03:28:13.973494Z",
     "iopub.status.idle": "2022-04-09T03:28:14.073135Z",
     "shell.execute_reply": "2022-04-09T03:28:14.072016Z",
     "shell.execute_reply.started": "2022-04-09T03:28:13.974066Z"
    },
    "papermill": {
     "duration": 0.120141,
     "end_time": "2022-04-09T03:33:21.812164",
     "exception": false,
     "start_time": "2022-04-09T03:33:21.692023",
     "status": "completed"
    },
    "tags": []
   },
   "outputs": [
    {
     "data": {
      "image/png": "[encoded data removed]",
      "text/plain": [
       "<Figure size 432x288 with 1 Axes>"
      ]
     },
     "metadata": {},
     "output_type": "display_data"
    }
   ],
   "source": [
    "fig1, ax1 = plt.subplots()\n",
    "fig1.suptitle('% de Sobreviventes do Titanic entre ' + str(total_survived) + ' passageiros', fontsize=16)\n",
    "ax1.pie(distr_survived, labels=label_survived, autopct='%1.1f%%', shadow=True, startangle=90)\n",
    "plt.show()"
   ]
  },
  {
   "cell_type": "markdown",
   "metadata": {
    "papermill": {
     "duration": 0.028013,
     "end_time": "2022-04-09T03:33:21.868975",
     "exception": false,
     "start_time": "2022-04-09T03:33:21.840962",
     "status": "completed"
    },
    "tags": []
   },
   "source": [
    "Percebe-se que tivemos muito mais mortos do que sobreviventes no navio Titanic."
   ]
  },
  {
   "cell_type": "markdown",
   "metadata": {
    "papermill": {
     "duration": 0.028682,
     "end_time": "2022-04-09T03:33:21.926662",
     "exception": false,
     "start_time": "2022-04-09T03:33:21.897980",
     "status": "completed"
    },
    "tags": []
   },
   "source": [
    "**Perguntas:**"
   ]
  },
  {
   "cell_type": "code",
   "execution_count": 5,
   "metadata": {
    "execution": {
     "iopub.execute_input": "2022-04-09T03:28:14.077679Z",
     "iopub.status.busy": "2022-04-09T03:28:14.077073Z",
     "iopub.status.idle": "2022-04-09T03:28:14.086933Z",
     "shell.execute_reply": "2022-04-09T03:28:14.086088Z",
     "shell.execute_reply.started": "2022-04-09T03:28:14.077608Z"
    },
    "papermill": {
     "duration": 0.040134,
     "end_time": "2022-04-09T03:33:21.995552",
     "exception": false,
     "start_time": "2022-04-09T03:33:21.955418",
     "status": "completed"
    },
    "tags": []
   },
   "outputs": [],
   "source": [
    "survived = data.loc[data['Survived'] == 1]\n",
    "died = data.loc[data['Survived'] == 0]"
   ]
  },
  {
   "cell_type": "markdown",
   "metadata": {
    "papermill": {
     "duration": 0.027969,
     "end_time": "2022-04-09T03:33:22.052036",
     "exception": false,
     "start_time": "2022-04-09T03:33:22.024067",
     "status": "completed"
    },
    "tags": []
   },
   "source": [
    "\n",
    "\n",
    "1 - Os passageiros das classes privilegiadas tem mais chances de sobreviver?"
   ]
  },
  {
   "cell_type": "code",
   "execution_count": 6,
   "metadata": {
    "execution": {
     "iopub.execute_input": "2022-04-09T03:28:14.090878Z",
     "iopub.status.busy": "2022-04-09T03:28:14.090238Z",
     "iopub.status.idle": "2022-04-09T03:28:14.100264Z",
     "shell.execute_reply": "2022-04-09T03:28:14.099282Z",
     "shell.execute_reply.started": "2022-04-09T03:28:14.090813Z"
    },
    "papermill": {
     "duration": 0.041129,
     "end_time": "2022-04-09T03:33:22.122273",
     "exception": false,
     "start_time": "2022-04-09T03:33:22.081144",
     "status": "completed"
    },
    "tags": []
   },
   "outputs": [],
   "source": [
    "label_class_survived = [k for k in Counter(survived.Pclass).keys()]\n",
    "distr_class_survived = [round(k/survived.Survived.count(),2) for k in Counter(survived.Pclass).values()]\n",
    "label_class_died = [k for k in Counter(died.Pclass).keys()]\n",
    "distr_class_died = [round(k/died.Survived.count(),2) for k in Counter(died.Pclass).values()]"
   ]
  },
  {
   "cell_type": "code",
   "execution_count": 7,
   "metadata": {
    "execution": {
     "iopub.execute_input": "2022-04-09T03:28:14.101997Z",
     "iopub.status.busy": "2022-04-09T03:28:14.101569Z",
     "iopub.status.idle": "2022-04-09T03:28:14.292447Z",
     "shell.execute_reply": "2022-04-09T03:28:14.29129Z",
     "shell.execute_reply.started": "2022-04-09T03:28:14.101875Z"
    },
    "papermill": {
     "duration": 0.199147,
     "end_time": "2022-04-09T03:33:22.349935",
     "exception": false,
     "start_time": "2022-04-09T03:33:22.150788",
     "status": "completed"
    },
    "tags": []
   },
   "outputs": [
    {
     "data": {
      "image/png": "[encoded data removed]",
      "text/plain": [
       "<Figure size 720x432 with 2 Axes>"
      ]
     },
     "metadata": {
      "needs_background": "light"
     },
     "output_type": "display_data"
    }
   ],
   "source": [
    "# make figure and assign axis objects\n",
    "fig = plt.figure(figsize=(10, 6))\n",
    "ax1 = fig.add_subplot(121)\n",
    "ax2 = fig.add_subplot(122)\n",
    "fig.subplots_adjust(wspace=0)\n",
    "\n",
    "xpos = 0\n",
    "bottom = 0\n",
    "width = .2\n",
    "\n",
    "for j in range(len(distr_class_survived)):\n",
    "    height = distr_class_survived[j]\n",
    "    ax1.bar(xpos, height, width, bottom=bottom)\n",
    "    ypos = bottom + ax1.patches[j].get_height() / 2\n",
    "    bottom += height\n",
    "    ax1.text(xpos, ypos, \"%d%%\" % (ax1.patches[j].get_height() * 100),\n",
    "             ha='center')\n",
    "\n",
    "ax1.set_title('Classes - Sobreviventes')\n",
    "ax1.legend(label_class_survived)\n",
    "ax1.axis('off')\n",
    "ax1.set_xlim(- 2.5 * width, 2.5 * width)\n",
    "\n",
    "xpos = 0\n",
    "bottom = 0\n",
    "width = .2\n",
    "\n",
    "for j in range(len(distr_class_died)):\n",
    "    height = distr_class_died[j]\n",
    "    ax2.bar(xpos, height, width, bottom=bottom)\n",
    "    ypos = bottom + ax2.patches[j].get_height() / 2\n",
    "    bottom += height\n",
    "    ax2.text(xpos, ypos, \"%d%%\" % (ax2.patches[j].get_height() * 100),\n",
    "             ha='center')\n",
    "\n",
    "ax2.set_title('Classes - Mortos')\n",
    "ax2.legend(label_class_died)\n",
    "ax2.axis('off')\n",
    "ax2.set_xlim( - 2.5 * width, 2.5 * width)\n",
    "\n",
    "plt.show()"
   ]
  },
  {
   "cell_type": "markdown",
   "metadata": {
    "papermill": {
     "duration": 0.028775,
     "end_time": "2022-04-09T03:33:22.407782",
     "exception": false,
     "start_time": "2022-04-09T03:33:22.379007",
     "status": "completed"
    },
    "tags": []
   },
   "source": [
    "Verificamos que dentre a quantidade de mortos, que possui uma representatividade muito maior (61% dos passageiros), existiu uma forte influência da classe dos passageiros, sendo destes 68% da classe 3."
   ]
  },
  {
   "cell_type": "markdown",
   "metadata": {
    "papermill": {
     "duration": 0.028368,
     "end_time": "2022-04-09T03:33:22.465102",
     "exception": false,
     "start_time": "2022-04-09T03:33:22.436734",
     "status": "completed"
    },
    "tags": []
   },
   "source": [
    "2 - Existe relação dos casos de sobrevidentes com a sua idade? Caso afirmativo, quais faixas de idade têm mais chance de sobrevivência? <br>"
   ]
  },
  {
   "cell_type": "code",
   "execution_count": 8,
   "metadata": {
    "execution": {
     "iopub.execute_input": "2022-04-09T03:28:14.294779Z",
     "iopub.status.busy": "2022-04-09T03:28:14.294202Z",
     "iopub.status.idle": "2022-04-09T03:28:14.492217Z",
     "shell.execute_reply": "2022-04-09T03:28:14.491071Z",
     "shell.execute_reply.started": "2022-04-09T03:28:14.294578Z"
    },
    "papermill": {
     "duration": 0.207776,
     "end_time": "2022-04-09T03:33:22.701904",
     "exception": false,
     "start_time": "2022-04-09T03:33:22.494128",
     "status": "completed"
    },
    "tags": []
   },
   "outputs": [
    {
     "data": {
      "text/plain": [
       "Text(0.5, 1.0, 'Distribuição dos passageiros por idade.')"
      ]
     },
     "execution_count": 8,
     "metadata": {},
     "output_type": "execute_result"
    },
    {
     "data": {
      "image/png": "[encoded data removed]",
      "text/plain": [
       "<Figure size 432x288 with 1 Axes>"
      ]
     },
     "metadata": {
      "needs_background": "light"
     },
     "output_type": "display_data"
    }
   ],
   "source": [
    "plt.figure()\n",
    "plt.ylim((None, 300))\n",
    "H = plt.hist(data.Age)\n",
    "leg = plt.legend(frameon=False)\n",
    "plt.title(\"Distribuição dos passageiros por idade.\")"
   ]
  },
  {
   "cell_type": "markdown",
   "metadata": {
    "papermill": {
     "duration": 0.029587,
     "end_time": "2022-04-09T03:33:22.761279",
     "exception": false,
     "start_time": "2022-04-09T03:33:22.731692",
     "status": "completed"
    },
    "tags": []
   },
   "source": [
    "Nota-se que a grande maioria dos passageiros se concentram entre as idades de 20 a 30 anos."
   ]
  },
  {
   "cell_type": "code",
   "execution_count": 9,
   "metadata": {
    "execution": {
     "iopub.execute_input": "2022-04-09T03:28:14.494269Z",
     "iopub.status.busy": "2022-04-09T03:28:14.493891Z",
     "iopub.status.idle": "2022-04-09T03:28:14.693038Z",
     "shell.execute_reply": "2022-04-09T03:28:14.692144Z",
     "shell.execute_reply.started": "2022-04-09T03:28:14.494213Z"
    },
    "papermill": {
     "duration": 0.204834,
     "end_time": "2022-04-09T03:33:22.996453",
     "exception": false,
     "start_time": "2022-04-09T03:33:22.791619",
     "status": "completed"
    },
    "tags": []
   },
   "outputs": [
    {
     "data": {
      "text/plain": [
       "Text(0.5, 1.0, 'Distribuição dos sobreviventes por idade')"
      ]
     },
     "execution_count": 9,
     "metadata": {},
     "output_type": "execute_result"
    },
    {
     "data": {
      "image/png": "[encoded data removed]",
      "text/plain": [
       "<Figure size 432x288 with 1 Axes>"
      ]
     },
     "metadata": {
      "needs_background": "light"
     },
     "output_type": "display_data"
    }
   ],
   "source": [
    "plt.figure()\n",
    "plt.ylim((None, 300))\n",
    "H = plt.hist(survived.Age)\n",
    "leg = plt.legend(frameon=False)\n",
    "plt.title(\"Distribuição dos sobreviventes por idade\")"
   ]
  },
  {
   "cell_type": "code",
   "execution_count": 10,
   "metadata": {
    "execution": {
     "iopub.execute_input": "2022-04-09T03:28:14.694565Z",
     "iopub.status.busy": "2022-04-09T03:28:14.694269Z",
     "iopub.status.idle": "2022-04-09T03:28:14.707543Z",
     "shell.execute_reply": "2022-04-09T03:28:14.706521Z",
     "shell.execute_reply.started": "2022-04-09T03:28:14.694516Z"
    },
    "papermill": {
     "duration": 0.050434,
     "end_time": "2022-04-09T03:33:23.077649",
     "exception": false,
     "start_time": "2022-04-09T03:33:23.027215",
     "status": "completed"
    },
    "tags": []
   },
   "outputs": [
    {
     "data": {
      "text/plain": [
       "count    342.000000\n",
       "mean      28.408392\n",
       "std       14.427863\n",
       "min        0.420000\n",
       "25%       19.000000\n",
       "50%       28.000000\n",
       "75%       36.750000\n",
       "max       80.000000\n",
       "Name: Age, dtype: float64"
      ]
     },
     "execution_count": 10,
     "metadata": {},
     "output_type": "execute_result"
    }
   ],
   "source": [
    "survived.Age.describe()"
   ]
  },
  {
   "cell_type": "code",
   "execution_count": 11,
   "metadata": {
    "execution": {
     "iopub.execute_input": "2022-04-09T03:28:14.709623Z",
     "iopub.status.busy": "2022-04-09T03:28:14.709309Z",
     "iopub.status.idle": "2022-04-09T03:28:14.911753Z",
     "shell.execute_reply": "2022-04-09T03:28:14.910416Z",
     "shell.execute_reply.started": "2022-04-09T03:28:14.709577Z"
    },
    "papermill": {
     "duration": 0.225272,
     "end_time": "2022-04-09T03:33:23.344237",
     "exception": false,
     "start_time": "2022-04-09T03:33:23.118965",
     "status": "completed"
    },
    "tags": []
   },
   "outputs": [
    {
     "data": {
      "text/plain": [
       "Text(0.5, 1.0, 'Distribuição dos mortos por idade')"
      ]
     },
     "execution_count": 11,
     "metadata": {},
     "output_type": "execute_result"
    },
    {
     "data": {
      "image/png": "[encoded data removed]",
      "text/plain": [
       "<Figure size 432x288 with 1 Axes>"
      ]
     },
     "metadata": {
      "needs_background": "light"
     },
     "output_type": "display_data"
    }
   ],
   "source": [
    "plt.figure()\n",
    "H = plt.hist(died.Age)\n",
    "leg = plt.legend(frameon=False)\n",
    "plt.title(\"Distribuição dos mortos por idade\")"
   ]
  },
  {
   "cell_type": "code",
   "execution_count": 12,
   "metadata": {
    "execution": {
     "iopub.execute_input": "2022-04-09T03:28:14.913402Z",
     "iopub.status.busy": "2022-04-09T03:28:14.913111Z",
     "iopub.status.idle": "2022-04-09T03:28:14.926764Z",
     "shell.execute_reply": "2022-04-09T03:28:14.925965Z",
     "shell.execute_reply.started": "2022-04-09T03:28:14.913366Z"
    },
    "papermill": {
     "duration": 0.060576,
     "end_time": "2022-04-09T03:33:23.438590",
     "exception": false,
     "start_time": "2022-04-09T03:33:23.378014",
     "status": "completed"
    },
    "tags": []
   },
   "outputs": [
    {
     "data": {
      "text/plain": [
       "count    545.000000\n",
       "mean      30.138532\n",
       "std       13.898317\n",
       "min        1.000000\n",
       "25%       21.000000\n",
       "50%       28.000000\n",
       "75%       39.000000\n",
       "max       74.000000\n",
       "Name: Age, dtype: float64"
      ]
     },
     "execution_count": 12,
     "metadata": {},
     "output_type": "execute_result"
    }
   ],
   "source": [
    "died.Age.describe()"
   ]
  },
  {
   "cell_type": "markdown",
   "metadata": {
    "papermill": {
     "duration": 0.033659,
     "end_time": "2022-04-09T03:33:23.510702",
     "exception": false,
     "start_time": "2022-04-09T03:33:23.477043",
     "status": "completed"
    },
    "tags": []
   },
   "source": [
    "A mediana de idade entre os mortos é de 28 anos."
   ]
  },
  {
   "cell_type": "markdown",
   "metadata": {
    "papermill": {
     "duration": 0.031769,
     "end_time": "2022-04-09T03:33:23.575198",
     "exception": false,
     "start_time": "2022-04-09T03:33:23.543429",
     "status": "completed"
    },
    "tags": []
   },
   "source": [
    "Coinscidentemente, a mediana de idade entre os sobreviventes também é de 28 anos."
   ]
  },
  {
   "cell_type": "markdown",
   "metadata": {
    "papermill": {
     "duration": 0.035397,
     "end_time": "2022-04-09T03:33:23.642745",
     "exception": false,
     "start_time": "2022-04-09T03:33:23.607348",
     "status": "completed"
    },
    "tags": []
   },
   "source": [
    "* 3 - Neste tipo de desastre, qual sexo oferece maior risco de vida? <br>"
   ]
  },
  {
   "cell_type": "code",
   "execution_count": 13,
   "metadata": {
    "execution": {
     "iopub.execute_input": "2022-04-09T03:28:14.928214Z",
     "iopub.status.busy": "2022-04-09T03:28:14.927842Z",
     "iopub.status.idle": "2022-04-09T03:28:15.117391Z",
     "shell.execute_reply": "2022-04-09T03:28:15.116297Z",
     "shell.execute_reply.started": "2022-04-09T03:28:14.92816Z"
    },
    "papermill": {
     "duration": 0.232891,
     "end_time": "2022-04-09T03:33:23.919843",
     "exception": false,
     "start_time": "2022-04-09T03:33:23.686952",
     "status": "completed"
    },
    "tags": []
   },
   "outputs": [
    {
     "data": {
      "image/png": "[encoded data removed]",
      "text/plain": [
       "<Figure size 432x288 with 1 Axes>"
      ]
     },
     "metadata": {
      "needs_background": "light"
     },
     "output_type": "display_data"
    }
   ],
   "source": [
    "passenger = sns.countplot(data=data, x='Survived', hue='Sex', palette='Reds_d')\n",
    "\n",
    "for p in passenger.patches:\n",
    "    b=p.get_bbox()\n",
    "    passenger.annotate(\"{:.0f}\".format(b.y1 + b.y0), ((b.x0 + b.x1)/2 - 0.03, b.y1 + 15))\n",
    "\n",
    "plt.title('Quantidade de sobreviventes e mortos\\n Total: %s passageiros' % (data.shape[0]))\n",
    "plt.show()"
   ]
  },
  {
   "cell_type": "markdown",
   "metadata": {
    "papermill": {
     "duration": 0.040461,
     "end_time": "2022-04-09T03:33:24.002764",
     "exception": false,
     "start_time": "2022-04-09T03:33:23.962303",
     "status": "completed"
    },
    "tags": []
   },
   "source": [
    "Podemos observar que a proporção de homens entre os mortos é muito maior. Da mesma forma, a quantidade de mulheres entre os sobreviventes é consideravelmente maior que a de homens."
   ]
  },
  {
   "cell_type": "code",
   "execution_count": 14,
   "metadata": {
    "execution": {
     "iopub.execute_input": "2022-04-09T03:28:15.119394Z",
     "iopub.status.busy": "2022-04-09T03:28:15.119021Z",
     "iopub.status.idle": "2022-04-09T03:28:15.125754Z",
     "shell.execute_reply": "2022-04-09T03:28:15.124881Z",
     "shell.execute_reply.started": "2022-04-09T03:28:15.119342Z"
    },
    "papermill": {
     "duration": 0.044102,
     "end_time": "2022-04-09T03:33:24.080684",
     "exception": false,
     "start_time": "2022-04-09T03:33:24.036582",
     "status": "completed"
    },
    "tags": []
   },
   "outputs": [],
   "source": [
    "le = LabelEncoder()\n",
    "data['SexNum'] = le.fit_transform(data['Sex'])"
   ]
  },
  {
   "cell_type": "code",
   "execution_count": 15,
   "metadata": {
    "execution": {
     "iopub.execute_input": "2022-04-09T03:28:15.127532Z",
     "iopub.status.busy": "2022-04-09T03:28:15.127197Z",
     "iopub.status.idle": "2022-04-09T03:28:15.325083Z",
     "shell.execute_reply": "2022-04-09T03:28:15.324056Z",
     "shell.execute_reply.started": "2022-04-09T03:28:15.127479Z"
    },
    "papermill": {
     "duration": 0.217427,
     "end_time": "2022-04-09T03:33:24.331269",
     "exception": false,
     "start_time": "2022-04-09T03:33:24.113842",
     "status": "completed"
    },
    "tags": []
   },
   "outputs": [],
   "source": [
    "distribuicao = data.copy()\n",
    "distribuicao['Faixa_Idade'] = ''\n",
    "for i, row in distribuicao.iterrows():\n",
    "    idade = distribuicao['Age'][i].astype(int)\n",
    "    if (idade > 80):\n",
    "        distribuicao['Faixa_Idade'][i] = '80 ou mais'\n",
    "    else:\n",
    "        if (idade > 60):\n",
    "            distribuicao['Faixa_Idade'][i] = '60 a 79'\n",
    "        else:\n",
    "            if (idade > 40):\n",
    "                distribuicao['Faixa_Idade'][i] = '40 a 59'\n",
    "            else:\n",
    "                if (idade > 20):\n",
    "                    distribuicao['Faixa_Idade'][i] = '20 a 39'\n",
    "                else:\n",
    "                    if (idade > 10):\n",
    "                        distribuicao['Faixa_Idade'][i] = '10 a 19'\n",
    "                    else:\n",
    "                        distribuicao['Faixa_Idade'][i] = '0 a 9'\n",
    "\n",
    "distribuicao = distribuicao.drop(['Pclass', 'Age', 'Siblings/Spouses Aboard', 'Parents/Children Aboard', 'Fare', 'SexNum'], axis=1)"
   ]
  },
  {
   "cell_type": "code",
   "execution_count": 16,
   "metadata": {
    "execution": {
     "iopub.execute_input": "2022-04-09T03:28:15.327038Z",
     "iopub.status.busy": "2022-04-09T03:28:15.326512Z",
     "iopub.status.idle": "2022-04-09T03:28:15.3433Z",
     "shell.execute_reply": "2022-04-09T03:28:15.341684Z",
     "shell.execute_reply.started": "2022-04-09T03:28:15.326976Z"
    },
    "papermill": {
     "duration": 0.049926,
     "end_time": "2022-04-09T03:33:24.414676",
     "exception": false,
     "start_time": "2022-04-09T03:33:24.364750",
     "status": "completed"
    },
    "tags": []
   },
   "outputs": [
    {
     "data": {
      "text/html": [
       "<div>\n",
       "<style scoped>\n",
       "    .dataframe tbody tr th:only-of-type {\n",
       "        vertical-align: middle;\n",
       "    }\n",
       "\n",
       "    .dataframe tbody tr th {\n",
       "        vertical-align: top;\n",
       "    }\n",
       "\n",
       "    .dataframe thead th {\n",
       "        text-align: right;\n",
       "    }\n",
       "</style>\n",
       "<table border=\"1\" class=\"dataframe\">\n",
       "  <thead>\n",
       "    <tr style=\"text-align: right;\">\n",
       "      <th></th>\n",
       "      <th>Survived</th>\n",
       "      <th>Name</th>\n",
       "      <th>Sex</th>\n",
       "      <th>Faixa_Idade</th>\n",
       "    </tr>\n",
       "  </thead>\n",
       "  <tbody>\n",
       "    <tr>\n",
       "      <th>0</th>\n",
       "      <td>0</td>\n",
       "      <td>Mr. Owen Harris Braund</td>\n",
       "      <td>male</td>\n",
       "      <td>20 a 39</td>\n",
       "    </tr>\n",
       "    <tr>\n",
       "      <th>1</th>\n",
       "      <td>1</td>\n",
       "      <td>Mrs. John Bradley (Florence Briggs Thayer) Cum...</td>\n",
       "      <td>female</td>\n",
       "      <td>20 a 39</td>\n",
       "    </tr>\n",
       "    <tr>\n",
       "      <th>2</th>\n",
       "      <td>1</td>\n",
       "      <td>Miss. Laina Heikkinen</td>\n",
       "      <td>female</td>\n",
       "      <td>20 a 39</td>\n",
       "    </tr>\n",
       "    <tr>\n",
       "      <th>3</th>\n",
       "      <td>1</td>\n",
       "      <td>Mrs. Jacques Heath (Lily May Peel) Futrelle</td>\n",
       "      <td>female</td>\n",
       "      <td>20 a 39</td>\n",
       "    </tr>\n",
       "    <tr>\n",
       "      <th>4</th>\n",
       "      <td>0</td>\n",
       "      <td>Mr. William Henry Allen</td>\n",
       "      <td>male</td>\n",
       "      <td>20 a 39</td>\n",
       "    </tr>\n",
       "    <tr>\n",
       "      <th>...</th>\n",
       "      <td>...</td>\n",
       "      <td>...</td>\n",
       "      <td>...</td>\n",
       "      <td>...</td>\n",
       "    </tr>\n",
       "    <tr>\n",
       "      <th>882</th>\n",
       "      <td>0</td>\n",
       "      <td>Rev. Juozas Montvila</td>\n",
       "      <td>male</td>\n",
       "      <td>20 a 39</td>\n",
       "    </tr>\n",
       "    <tr>\n",
       "      <th>883</th>\n",
       "      <td>1</td>\n",
       "      <td>Miss. Margaret Edith Graham</td>\n",
       "      <td>female</td>\n",
       "      <td>10 a 19</td>\n",
       "    </tr>\n",
       "    <tr>\n",
       "      <th>884</th>\n",
       "      <td>0</td>\n",
       "      <td>Miss. Catherine Helen Johnston</td>\n",
       "      <td>female</td>\n",
       "      <td>0 a 9</td>\n",
       "    </tr>\n",
       "    <tr>\n",
       "      <th>885</th>\n",
       "      <td>1</td>\n",
       "      <td>Mr. Karl Howell Behr</td>\n",
       "      <td>male</td>\n",
       "      <td>20 a 39</td>\n",
       "    </tr>\n",
       "    <tr>\n",
       "      <th>886</th>\n",
       "      <td>0</td>\n",
       "      <td>Mr. Patrick Dooley</td>\n",
       "      <td>male</td>\n",
       "      <td>20 a 39</td>\n",
       "    </tr>\n",
       "  </tbody>\n",
       "</table>\n",
       "<p>887 rows × 4 columns</p>\n",
       "</div>"
      ],
      "text/plain": [
       "     Survived                                               Name     Sex  \\\n",
       "0           0                             Mr. Owen Harris Braund    male   \n",
       "1           1  Mrs. John Bradley (Florence Briggs Thayer) Cum...  female   \n",
       "2           1                              Miss. Laina Heikkinen  female   \n",
       "3           1        Mrs. Jacques Heath (Lily May Peel) Futrelle  female   \n",
       "4           0                            Mr. William Henry Allen    male   \n",
       "..        ...                                                ...     ...   \n",
       "882         0                               Rev. Juozas Montvila    male   \n",
       "883         1                        Miss. Margaret Edith Graham  female   \n",
       "884         0                     Miss. Catherine Helen Johnston  female   \n",
       "885         1                               Mr. Karl Howell Behr    male   \n",
       "886         0                                 Mr. Patrick Dooley    male   \n",
       "\n",
       "    Faixa_Idade  \n",
       "0       20 a 39  \n",
       "1       20 a 39  \n",
       "2       20 a 39  \n",
       "3       20 a 39  \n",
       "4       20 a 39  \n",
       "..          ...  \n",
       "882     20 a 39  \n",
       "883     10 a 19  \n",
       "884       0 a 9  \n",
       "885     20 a 39  \n",
       "886     20 a 39  \n",
       "\n",
       "[887 rows x 4 columns]"
      ]
     },
     "execution_count": 16,
     "metadata": {},
     "output_type": "execute_result"
    }
   ],
   "source": [
    "distribuicao"
   ]
  },
  {
   "cell_type": "code",
   "execution_count": 17,
   "metadata": {
    "execution": {
     "iopub.execute_input": "2022-04-09T03:28:15.34533Z",
     "iopub.status.busy": "2022-04-09T03:28:15.344856Z",
     "iopub.status.idle": "2022-04-09T03:28:15.368635Z",
     "shell.execute_reply": "2022-04-09T03:28:15.367066Z",
     "shell.execute_reply.started": "2022-04-09T03:28:15.345167Z"
    },
    "papermill": {
     "duration": 0.058988,
     "end_time": "2022-04-09T03:33:24.507537",
     "exception": false,
     "start_time": "2022-04-09T03:33:24.448549",
     "status": "completed"
    },
    "tags": []
   },
   "outputs": [
    {
     "data": {
      "text/html": [
       "<div>\n",
       "<style scoped>\n",
       "    .dataframe tbody tr th:only-of-type {\n",
       "        vertical-align: middle;\n",
       "    }\n",
       "\n",
       "    .dataframe tbody tr th {\n",
       "        vertical-align: top;\n",
       "    }\n",
       "\n",
       "    .dataframe thead th {\n",
       "        text-align: right;\n",
       "    }\n",
       "</style>\n",
       "<table border=\"1\" class=\"dataframe\">\n",
       "  <thead>\n",
       "    <tr style=\"text-align: right;\">\n",
       "      <th></th>\n",
       "      <th></th>\n",
       "      <th></th>\n",
       "      <th>Name</th>\n",
       "    </tr>\n",
       "    <tr>\n",
       "      <th>Sex</th>\n",
       "      <th>Survived</th>\n",
       "      <th>Faixa_Idade</th>\n",
       "      <th></th>\n",
       "    </tr>\n",
       "  </thead>\n",
       "  <tbody>\n",
       "    <tr>\n",
       "      <th rowspan=\"10\" valign=\"top\">female</th>\n",
       "      <th rowspan=\"5\" valign=\"top\">0</th>\n",
       "      <th>0 a 9</th>\n",
       "      <td>16</td>\n",
       "    </tr>\n",
       "    <tr>\n",
       "      <th>10 a 19</th>\n",
       "      <td>16</td>\n",
       "    </tr>\n",
       "    <tr>\n",
       "      <th>20 a 39</th>\n",
       "      <td>37</td>\n",
       "    </tr>\n",
       "    <tr>\n",
       "      <th>40 a 59</th>\n",
       "      <td>11</td>\n",
       "    </tr>\n",
       "    <tr>\n",
       "      <th>60 a 79</th>\n",
       "      <td>1</td>\n",
       "    </tr>\n",
       "    <tr>\n",
       "      <th rowspan=\"5\" valign=\"top\">1</th>\n",
       "      <th>0 a 9</th>\n",
       "      <td>20</td>\n",
       "    </tr>\n",
       "    <tr>\n",
       "      <th>10 a 19</th>\n",
       "      <td>40</td>\n",
       "    </tr>\n",
       "    <tr>\n",
       "      <th>20 a 39</th>\n",
       "      <td>129</td>\n",
       "    </tr>\n",
       "    <tr>\n",
       "      <th>40 a 59</th>\n",
       "      <td>41</td>\n",
       "    </tr>\n",
       "    <tr>\n",
       "      <th>60 a 79</th>\n",
       "      <td>3</td>\n",
       "    </tr>\n",
       "    <tr>\n",
       "      <th rowspan=\"10\" valign=\"top\">male</th>\n",
       "      <th rowspan=\"5\" valign=\"top\">0</th>\n",
       "      <th>0 a 9</th>\n",
       "      <td>16</td>\n",
       "    </tr>\n",
       "    <tr>\n",
       "      <th>10 a 19</th>\n",
       "      <td>82</td>\n",
       "    </tr>\n",
       "    <tr>\n",
       "      <th>20 a 39</th>\n",
       "      <td>267</td>\n",
       "    </tr>\n",
       "    <tr>\n",
       "      <th>40 a 59</th>\n",
       "      <td>79</td>\n",
       "    </tr>\n",
       "    <tr>\n",
       "      <th>60 a 79</th>\n",
       "      <td>20</td>\n",
       "    </tr>\n",
       "    <tr>\n",
       "      <th rowspan=\"5\" valign=\"top\">1</th>\n",
       "      <th>0 a 9</th>\n",
       "      <td>21</td>\n",
       "    </tr>\n",
       "    <tr>\n",
       "      <th>10 a 19</th>\n",
       "      <td>12</td>\n",
       "    </tr>\n",
       "    <tr>\n",
       "      <th>20 a 39</th>\n",
       "      <td>55</td>\n",
       "    </tr>\n",
       "    <tr>\n",
       "      <th>40 a 59</th>\n",
       "      <td>19</td>\n",
       "    </tr>\n",
       "    <tr>\n",
       "      <th>60 a 79</th>\n",
       "      <td>2</td>\n",
       "    </tr>\n",
       "  </tbody>\n",
       "</table>\n",
       "</div>"
      ],
      "text/plain": [
       "                             Name\n",
       "Sex    Survived Faixa_Idade      \n",
       "female 0        0 a 9          16\n",
       "                10 a 19        16\n",
       "                20 a 39        37\n",
       "                40 a 59        11\n",
       "                60 a 79         1\n",
       "       1        0 a 9          20\n",
       "                10 a 19        40\n",
       "                20 a 39       129\n",
       "                40 a 59        41\n",
       "                60 a 79         3\n",
       "male   0        0 a 9          16\n",
       "                10 a 19        82\n",
       "                20 a 39       267\n",
       "                40 a 59        79\n",
       "                60 a 79        20\n",
       "       1        0 a 9          21\n",
       "                10 a 19        12\n",
       "                20 a 39        55\n",
       "                40 a 59        19\n",
       "                60 a 79         2"
      ]
     },
     "execution_count": 17,
     "metadata": {},
     "output_type": "execute_result"
    }
   ],
   "source": [
    "distribuicao.groupby(['Sex','Survived','Faixa_Idade']).count()"
   ]
  },
  {
   "cell_type": "code",
   "execution_count": 18,
   "metadata": {
    "execution": {
     "iopub.execute_input": "2022-04-09T03:28:15.370777Z",
     "iopub.status.busy": "2022-04-09T03:28:15.370132Z",
     "iopub.status.idle": "2022-04-09T03:28:15.383753Z",
     "shell.execute_reply": "2022-04-09T03:28:15.38292Z",
     "shell.execute_reply.started": "2022-04-09T03:28:15.370712Z"
    },
    "papermill": {
     "duration": 0.04734,
     "end_time": "2022-04-09T03:33:24.588748",
     "exception": false,
     "start_time": "2022-04-09T03:33:24.541408",
     "status": "completed"
    },
    "tags": []
   },
   "outputs": [],
   "source": [
    "label_sex_died = [k for k in Counter(died.Sex).keys()]\n",
    "distr_sex_died = [round(k/died.Sex.count(),2) for k in Counter(died.Sex).values()]\n",
    "label_sex_total = [k for k in Counter(data.Sex).keys()]\n",
    "distr_sex_total = [round(k/data.Sex.count(),2) for k in Counter(data.Sex).values()]\n",
    "label_sex_survived = [k for k in Counter(survived.Sex).keys()]\n",
    "distr_sex_survived = [round(k/survived.Sex.count(),2) for k in Counter(survived.Sex).values()]"
   ]
  },
  {
   "cell_type": "code",
   "execution_count": 19,
   "metadata": {
    "execution": {
     "iopub.execute_input": "2022-04-09T03:28:15.385841Z",
     "iopub.status.busy": "2022-04-09T03:28:15.385387Z",
     "iopub.status.idle": "2022-04-09T03:28:15.46246Z",
     "shell.execute_reply": "2022-04-09T03:28:15.461335Z",
     "shell.execute_reply.started": "2022-04-09T03:28:15.385771Z"
    },
    "papermill": {
     "duration": 0.101674,
     "end_time": "2022-04-09T03:33:24.724576",
     "exception": false,
     "start_time": "2022-04-09T03:33:24.622902",
     "status": "completed"
    },
    "tags": []
   },
   "outputs": [
    {
     "data": {
      "image/png": "[encoded data removed]",
      "text/plain": [
       "<Figure size 432x288 with 1 Axes>"
      ]
     },
     "metadata": {},
     "output_type": "display_data"
    }
   ],
   "source": [
    "fig1, ax1 = plt.subplots()\n",
    "fig1.suptitle('% de Passageiros do Titanic por Sexo', fontsize=16)\n",
    "ax1.pie(distr_sex_total, labels=label_sex_total, autopct='%1.1f%%', shadow=True, startangle=90)\n",
    "plt.show()"
   ]
  },
  {
   "cell_type": "code",
   "execution_count": 20,
   "metadata": {
    "execution": {
     "iopub.execute_input": "2022-04-09T03:28:15.46507Z",
     "iopub.status.busy": "2022-04-09T03:28:15.464536Z",
     "iopub.status.idle": "2022-04-09T03:28:15.600753Z",
     "shell.execute_reply": "2022-04-09T03:28:15.599748Z",
     "shell.execute_reply.started": "2022-04-09T03:28:15.46499Z"
    },
    "papermill": {
     "duration": 0.158373,
     "end_time": "2022-04-09T03:33:24.918090",
     "exception": false,
     "start_time": "2022-04-09T03:33:24.759717",
     "status": "completed"
    },
    "tags": []
   },
   "outputs": [
    {
     "data": {
      "image/png": "[encoded data removed]",
      "text/plain": [
       "<Figure size 720x432 with 2 Axes>"
      ]
     },
     "metadata": {},
     "output_type": "display_data"
    }
   ],
   "source": [
    "fig = plt.figure(figsize=(10, 6))\n",
    "ax1 = fig.add_subplot(121)\n",
    "ax2 = fig.add_subplot(122)\n",
    "fig.subplots_adjust(wspace=0)\n",
    "\n",
    "ax1.pie(distr_sex_died, labels=label_sex_died, autopct='%1.1f%%', shadow=True, startangle=90)\n",
    "ax1.set_title('Mortos')\n",
    "\n",
    "ax2.pie(distr_sex_survived, labels=label_sex_survived, autopct='%1.1f%%', shadow=True, startangle=90)\n",
    "ax2.set_title('Sobreviventes')\n",
    "\n",
    "plt.show()"
   ]
  },
  {
   "cell_type": "markdown",
   "metadata": {
    "papermill": {
     "duration": 0.035595,
     "end_time": "2022-04-09T03:33:24.990556",
     "exception": false,
     "start_time": "2022-04-09T03:33:24.954961",
     "status": "completed"
    },
    "tags": []
   },
   "source": [
    "Dos passageiros mortos, tivemos muito mais homens do que mulheres."
   ]
  },
  {
   "cell_type": "markdown",
   "metadata": {
    "papermill": {
     "duration": 0.035937,
     "end_time": "2022-04-09T03:33:25.062745",
     "exception": false,
     "start_time": "2022-04-09T03:33:25.026808",
     "status": "completed"
    },
    "tags": []
   },
   "source": [
    "4 - Passageiros com parentes a bordo tem mais ou menos chance de se salvar? <br>"
   ]
  },
  {
   "cell_type": "code",
   "execution_count": 21,
   "metadata": {
    "execution": {
     "iopub.execute_input": "2022-04-09T03:28:15.602737Z",
     "iopub.status.busy": "2022-04-09T03:28:15.602381Z",
     "iopub.status.idle": "2022-04-09T03:28:15.798506Z",
     "shell.execute_reply": "2022-04-09T03:28:15.797457Z",
     "shell.execute_reply.started": "2022-04-09T03:28:15.602675Z"
    },
    "papermill": {
     "duration": 0.237359,
     "end_time": "2022-04-09T03:33:25.343411",
     "exception": false,
     "start_time": "2022-04-09T03:33:25.106052",
     "status": "completed"
    },
    "tags": []
   },
   "outputs": [
    {
     "data": {
      "text/plain": [
       "Text(0.5, 1.0, 'Distribuição dos mortos com Irmãos ou Cônjuge a bordo.')"
      ]
     },
     "execution_count": 21,
     "metadata": {},
     "output_type": "execute_result"
    },
    {
     "data": {
      "image/png": "[encoded data removed]",
      "text/plain": [
       "<Figure size 432x288 with 1 Axes>"
      ]
     },
     "metadata": {
      "needs_background": "light"
     },
     "output_type": "display_data"
    }
   ],
   "source": [
    "plt.figure()\n",
    "died_siblings = died[died['Siblings/Spouses Aboard'] > 0]\n",
    "H = plt.hist(died_siblings['Siblings/Spouses Aboard'])\n",
    "leg = plt.legend(frameon=False)\n",
    "plt.title(\"Distribuição dos mortos com Irmãos ou Cônjuge a bordo.\")"
   ]
  },
  {
   "cell_type": "markdown",
   "metadata": {
    "papermill": {
     "duration": 0.036002,
     "end_time": "2022-04-09T03:33:25.416905",
     "exception": false,
     "start_time": "2022-04-09T03:33:25.380903",
     "status": "completed"
    },
    "tags": []
   },
   "source": [
    "A maioria dos passageiros mortos não tinham irmãos ou cônjuges a bordo."
   ]
  },
  {
   "cell_type": "code",
   "execution_count": 22,
   "metadata": {
    "execution": {
     "iopub.execute_input": "2022-04-09T03:28:15.800192Z",
     "iopub.status.busy": "2022-04-09T03:28:15.799868Z",
     "iopub.status.idle": "2022-04-09T03:28:16.084227Z",
     "shell.execute_reply": "2022-04-09T03:28:16.08325Z",
     "shell.execute_reply.started": "2022-04-09T03:28:15.800147Z"
    },
    "papermill": {
     "duration": 0.288107,
     "end_time": "2022-04-09T03:33:25.741934",
     "exception": false,
     "start_time": "2022-04-09T03:33:25.453827",
     "status": "completed"
    },
    "tags": []
   },
   "outputs": [
    {
     "data": {
      "text/plain": [
       "Text(0.5, 1.0, 'Distribuição dos mortos com filhos a bordo.')"
      ]
     },
     "execution_count": 22,
     "metadata": {},
     "output_type": "execute_result"
    },
    {
     "data": {
      "image/png": "[encoded data removed]",
      "text/plain": [
       "<Figure size 432x288 with 1 Axes>"
      ]
     },
     "metadata": {
      "needs_background": "light"
     },
     "output_type": "display_data"
    }
   ],
   "source": [
    "plt.figure()\n",
    "died_children = died[died['Parents/Children Aboard'] > 0]\n",
    "H = plt.hist(died_children['Parents/Children Aboard'])\n",
    "leg = plt.legend(frameon=False)\n",
    "plt.title(\"Distribuição dos mortos com filhos a bordo.\")"
   ]
  },
  {
   "cell_type": "markdown",
   "metadata": {
    "papermill": {
     "duration": 0.036731,
     "end_time": "2022-04-09T03:33:25.816858",
     "exception": false,
     "start_time": "2022-04-09T03:33:25.780127",
     "status": "completed"
    },
    "tags": []
   },
   "source": [
    "Da mesma forma, entre os mortos a maioria não tinha filhos."
   ]
  },
  {
   "cell_type": "markdown",
   "metadata": {
    "papermill": {
     "duration": 0.03673,
     "end_time": "2022-04-09T03:33:25.891045",
     "exception": false,
     "start_time": "2022-04-09T03:33:25.854315",
     "status": "completed"
    },
    "tags": []
   },
   "source": [
    "5 - Quanto maior a tarifa paga pelos passageiros, maiores eram as chances de sobrevivência?"
   ]
  },
  {
   "cell_type": "code",
   "execution_count": 23,
   "metadata": {
    "execution": {
     "iopub.execute_input": "2022-04-09T03:28:16.08587Z",
     "iopub.status.busy": "2022-04-09T03:28:16.085573Z",
     "iopub.status.idle": "2022-04-09T03:28:16.283921Z",
     "shell.execute_reply": "2022-04-09T03:28:16.283093Z",
     "shell.execute_reply.started": "2022-04-09T03:28:16.085825Z"
    },
    "papermill": {
     "duration": 0.213274,
     "end_time": "2022-04-09T03:33:26.141779",
     "exception": false,
     "start_time": "2022-04-09T03:33:25.928505",
     "status": "completed"
    },
    "tags": []
   },
   "outputs": [
    {
     "data": {
      "text/plain": [
       "Text(0.5, 1.0, 'Distribuição dos mortos por tarifa')"
      ]
     },
     "execution_count": 23,
     "metadata": {},
     "output_type": "execute_result"
    },
    {
     "data": {
      "image/png": "[encoded data removed]",
      "text/plain": [
       "<Figure size 432x288 with 1 Axes>"
      ]
     },
     "metadata": {
      "needs_background": "light"
     },
     "output_type": "display_data"
    }
   ],
   "source": [
    "plt.figure()\n",
    "H = plt.hist(died.Fare)\n",
    "leg = plt.legend(frameon=False)\n",
    "plt.title(\"Distribuição dos mortos por tarifa\")"
   ]
  },
  {
   "cell_type": "markdown",
   "metadata": {
    "papermill": {
     "duration": 0.085652,
     "end_time": "2022-04-09T03:33:26.265378",
     "exception": false,
     "start_time": "2022-04-09T03:33:26.179726",
     "status": "completed"
    },
    "tags": []
   },
   "source": [
    "Os passageiros com menores valores de tarifas são os que mais morreram. Isto pode estar associado à classe econômica que acaba também influenciando no local de acomodação no navio."
   ]
  },
  {
   "cell_type": "code",
   "execution_count": 24,
   "metadata": {
    "execution": {
     "iopub.execute_input": "2022-04-09T03:28:16.285941Z",
     "iopub.status.busy": "2022-04-09T03:28:16.285314Z",
     "iopub.status.idle": "2022-04-09T03:28:16.479611Z",
     "shell.execute_reply": "2022-04-09T03:28:16.478727Z",
     "shell.execute_reply.started": "2022-04-09T03:28:16.28586Z"
    },
    "papermill": {
     "duration": 0.219596,
     "end_time": "2022-04-09T03:33:26.524382",
     "exception": false,
     "start_time": "2022-04-09T03:33:26.304786",
     "status": "completed"
    },
    "tags": []
   },
   "outputs": [],
   "source": [
    "data['Fare_label'] = ''\n",
    "for i, row in data.iterrows():\n",
    "    fare = data['Fare'][i].astype(int)\n",
    "    if (fare > 100):\n",
    "        data['Fare_label'][i] = 'Acima de 100'\n",
    "    else:\n",
    "        if (fare > 50):\n",
    "            data['Fare_label'][i] = 'Acima de 50'\n",
    "        else:\n",
    "            data['Fare_label'][i] = 'Até 50'"
   ]
  },
  {
   "cell_type": "code",
   "execution_count": 25,
   "metadata": {
    "execution": {
     "iopub.execute_input": "2022-04-09T03:28:16.481125Z",
     "iopub.status.busy": "2022-04-09T03:28:16.48069Z",
     "iopub.status.idle": "2022-04-09T03:28:17.142975Z",
     "shell.execute_reply": "2022-04-09T03:28:17.141845Z",
     "shell.execute_reply.started": "2022-04-09T03:28:16.481084Z"
    },
    "papermill": {
     "duration": 0.620389,
     "end_time": "2022-04-09T03:33:27.182715",
     "exception": false,
     "start_time": "2022-04-09T03:33:26.562326",
     "status": "completed"
    },
    "tags": []
   },
   "outputs": [
    {
     "data": {
      "image/png": "[encoded data removed]",
      "text/plain": [
       "<Figure size 464.875x360 with 1 Axes>"
      ]
     },
     "metadata": {
      "needs_background": "light"
     },
     "output_type": "display_data"
    }
   ],
   "source": [
    "g = sns.factorplot(\"Pclass\", \"Survived\", \"Fare_label\", data=data, kind=\"bar\", palette=\"muted\", legend=True)\n",
    "plt.show()"
   ]
  },
  {
   "cell_type": "markdown",
   "metadata": {
    "papermill": {
     "duration": 0.038588,
     "end_time": "2022-04-09T03:33:27.260442",
     "exception": false,
     "start_time": "2022-04-09T03:33:27.221854",
     "status": "completed"
    },
    "tags": []
   },
   "source": [
    "Aqui vemos claramente que somente os passageiros da Classe 1 possuem tarifas acima de U$100.\n",
    "\n",
    "Começamos então a montar um modelo em KNN, aplicado sobre as features **Pclass**, **Age**, **Siblings/Spouses Aboard**, **Parents/Children Aboard** e **SexNum** (este último já convertido em 1 - Masculino e 0 - Feminino)."
   ]
  },
  {
   "cell_type": "code",
   "execution_count": 26,
   "metadata": {
    "execution": {
     "iopub.execute_input": "2022-04-09T03:28:17.145138Z",
     "iopub.status.busy": "2022-04-09T03:28:17.144489Z",
     "iopub.status.idle": "2022-04-09T03:28:17.165112Z",
     "shell.execute_reply": "2022-04-09T03:28:17.164074Z",
     "shell.execute_reply.started": "2022-04-09T03:28:17.145063Z"
    },
    "papermill": {
     "duration": 0.060537,
     "end_time": "2022-04-09T03:33:27.360314",
     "exception": false,
     "start_time": "2022-04-09T03:33:27.299777",
     "status": "completed"
    },
    "tags": []
   },
   "outputs": [
    {
     "data": {
      "text/html": [
       "<div>\n",
       "<style scoped>\n",
       "    .dataframe tbody tr th:only-of-type {\n",
       "        vertical-align: middle;\n",
       "    }\n",
       "\n",
       "    .dataframe tbody tr th {\n",
       "        vertical-align: top;\n",
       "    }\n",
       "\n",
       "    .dataframe thead th {\n",
       "        text-align: right;\n",
       "    }\n",
       "</style>\n",
       "<table border=\"1\" class=\"dataframe\">\n",
       "  <thead>\n",
       "    <tr style=\"text-align: right;\">\n",
       "      <th></th>\n",
       "      <th>Survived</th>\n",
       "      <th>Pclass</th>\n",
       "      <th>Age</th>\n",
       "      <th>Siblings/Spouses Aboard</th>\n",
       "      <th>Parents/Children Aboard</th>\n",
       "      <th>SexNum</th>\n",
       "    </tr>\n",
       "  </thead>\n",
       "  <tbody>\n",
       "    <tr>\n",
       "      <th>0</th>\n",
       "      <td>0</td>\n",
       "      <td>3</td>\n",
       "      <td>22.0</td>\n",
       "      <td>1</td>\n",
       "      <td>0</td>\n",
       "      <td>1</td>\n",
       "    </tr>\n",
       "    <tr>\n",
       "      <th>1</th>\n",
       "      <td>1</td>\n",
       "      <td>1</td>\n",
       "      <td>38.0</td>\n",
       "      <td>1</td>\n",
       "      <td>0</td>\n",
       "      <td>0</td>\n",
       "    </tr>\n",
       "    <tr>\n",
       "      <th>2</th>\n",
       "      <td>1</td>\n",
       "      <td>3</td>\n",
       "      <td>26.0</td>\n",
       "      <td>0</td>\n",
       "      <td>0</td>\n",
       "      <td>0</td>\n",
       "    </tr>\n",
       "    <tr>\n",
       "      <th>3</th>\n",
       "      <td>1</td>\n",
       "      <td>1</td>\n",
       "      <td>35.0</td>\n",
       "      <td>1</td>\n",
       "      <td>0</td>\n",
       "      <td>0</td>\n",
       "    </tr>\n",
       "    <tr>\n",
       "      <th>4</th>\n",
       "      <td>0</td>\n",
       "      <td>3</td>\n",
       "      <td>35.0</td>\n",
       "      <td>0</td>\n",
       "      <td>0</td>\n",
       "      <td>1</td>\n",
       "    </tr>\n",
       "    <tr>\n",
       "      <th>...</th>\n",
       "      <td>...</td>\n",
       "      <td>...</td>\n",
       "      <td>...</td>\n",
       "      <td>...</td>\n",
       "      <td>...</td>\n",
       "      <td>...</td>\n",
       "    </tr>\n",
       "    <tr>\n",
       "      <th>882</th>\n",
       "      <td>0</td>\n",
       "      <td>2</td>\n",
       "      <td>27.0</td>\n",
       "      <td>0</td>\n",
       "      <td>0</td>\n",
       "      <td>1</td>\n",
       "    </tr>\n",
       "    <tr>\n",
       "      <th>883</th>\n",
       "      <td>1</td>\n",
       "      <td>1</td>\n",
       "      <td>19.0</td>\n",
       "      <td>0</td>\n",
       "      <td>0</td>\n",
       "      <td>0</td>\n",
       "    </tr>\n",
       "    <tr>\n",
       "      <th>884</th>\n",
       "      <td>0</td>\n",
       "      <td>3</td>\n",
       "      <td>7.0</td>\n",
       "      <td>1</td>\n",
       "      <td>2</td>\n",
       "      <td>0</td>\n",
       "    </tr>\n",
       "    <tr>\n",
       "      <th>885</th>\n",
       "      <td>1</td>\n",
       "      <td>1</td>\n",
       "      <td>26.0</td>\n",
       "      <td>0</td>\n",
       "      <td>0</td>\n",
       "      <td>1</td>\n",
       "    </tr>\n",
       "    <tr>\n",
       "      <th>886</th>\n",
       "      <td>0</td>\n",
       "      <td>3</td>\n",
       "      <td>32.0</td>\n",
       "      <td>0</td>\n",
       "      <td>0</td>\n",
       "      <td>1</td>\n",
       "    </tr>\n",
       "  </tbody>\n",
       "</table>\n",
       "<p>887 rows × 6 columns</p>\n",
       "</div>"
      ],
      "text/plain": [
       "     Survived  Pclass   Age  Siblings/Spouses Aboard  Parents/Children Aboard  \\\n",
       "0           0       3  22.0                        1                        0   \n",
       "1           1       1  38.0                        1                        0   \n",
       "2           1       3  26.0                        0                        0   \n",
       "3           1       1  35.0                        1                        0   \n",
       "4           0       3  35.0                        0                        0   \n",
       "..        ...     ...   ...                      ...                      ...   \n",
       "882         0       2  27.0                        0                        0   \n",
       "883         1       1  19.0                        0                        0   \n",
       "884         0       3   7.0                        1                        2   \n",
       "885         1       1  26.0                        0                        0   \n",
       "886         0       3  32.0                        0                        0   \n",
       "\n",
       "     SexNum  \n",
       "0         1  \n",
       "1         0  \n",
       "2         0  \n",
       "3         0  \n",
       "4         1  \n",
       "..      ...  \n",
       "882       1  \n",
       "883       0  \n",
       "884       0  \n",
       "885       1  \n",
       "886       1  \n",
       "\n",
       "[887 rows x 6 columns]"
      ]
     },
     "execution_count": 26,
     "metadata": {},
     "output_type": "execute_result"
    }
   ],
   "source": [
    "df = data.drop(['Name', 'Sex', 'Fare', 'Fare_label'], axis=1)\n",
    "df"
   ]
  },
  {
   "cell_type": "code",
   "execution_count": 27,
   "metadata": {
    "execution": {
     "iopub.execute_input": "2022-04-09T03:28:17.167569Z",
     "iopub.status.busy": "2022-04-09T03:28:17.167113Z",
     "iopub.status.idle": "2022-04-09T03:28:17.178196Z",
     "shell.execute_reply": "2022-04-09T03:28:17.177211Z",
     "shell.execute_reply.started": "2022-04-09T03:28:17.167525Z"
    },
    "papermill": {
     "duration": 0.048437,
     "end_time": "2022-04-09T03:33:27.447909",
     "exception": false,
     "start_time": "2022-04-09T03:33:27.399472",
     "status": "completed"
    },
    "tags": []
   },
   "outputs": [],
   "source": [
    "X = df.iloc[:,1:].values\n",
    "y = df.iloc[:,0].values"
   ]
  },
  {
   "cell_type": "code",
   "execution_count": 28,
   "metadata": {
    "execution": {
     "iopub.execute_input": "2022-04-09T03:28:17.179963Z",
     "iopub.status.busy": "2022-04-09T03:28:17.17938Z",
     "iopub.status.idle": "2022-04-09T03:28:17.236398Z",
     "shell.execute_reply": "2022-04-09T03:28:17.235463Z",
     "shell.execute_reply.started": "2022-04-09T03:28:17.179919Z"
    },
    "papermill": {
     "duration": 0.087542,
     "end_time": "2022-04-09T03:33:27.575000",
     "exception": false,
     "start_time": "2022-04-09T03:33:27.487458",
     "status": "completed"
    },
    "tags": []
   },
   "outputs": [],
   "source": [
    "from sklearn.model_selection import train_test_split\n",
    "X_train, X_test, y_train, y_test = train_test_split(X, y, test_size=0.20)"
   ]
  },
  {
   "cell_type": "code",
   "execution_count": 29,
   "metadata": {
    "execution": {
     "iopub.execute_input": "2022-04-09T03:28:17.238203Z",
     "iopub.status.busy": "2022-04-09T03:28:17.237687Z",
     "iopub.status.idle": "2022-04-09T03:28:17.381366Z",
     "shell.execute_reply": "2022-04-09T03:28:17.380269Z",
     "shell.execute_reply.started": "2022-04-09T03:28:17.238159Z"
    },
    "papermill": {
     "duration": 0.179247,
     "end_time": "2022-04-09T03:33:27.793680",
     "exception": false,
     "start_time": "2022-04-09T03:33:27.614433",
     "status": "completed"
    },
    "tags": []
   },
   "outputs": [
    {
     "data": {
      "text/plain": [
       "KNeighborsClassifier(algorithm='auto', leaf_size=30, metric='minkowski',\n",
       "                     metric_params=None, n_jobs=None, n_neighbors=5, p=2,\n",
       "                     weights='uniform')"
      ]
     },
     "execution_count": 29,
     "metadata": {},
     "output_type": "execute_result"
    }
   ],
   "source": [
    "from sklearn.neighbors import KNeighborsClassifier\n",
    "classifier = KNeighborsClassifier(n_neighbors=5)\n",
    "classifier.fit(X_train, y_train)"
   ]
  },
  {
   "cell_type": "code",
   "execution_count": 30,
   "metadata": {
    "execution": {
     "iopub.execute_input": "2022-04-09T03:28:17.383135Z",
     "iopub.status.busy": "2022-04-09T03:28:17.382774Z",
     "iopub.status.idle": "2022-04-09T03:28:17.396869Z",
     "shell.execute_reply": "2022-04-09T03:28:17.395715Z",
     "shell.execute_reply.started": "2022-04-09T03:28:17.383083Z"
    },
    "papermill": {
     "duration": 0.053197,
     "end_time": "2022-04-09T03:33:27.886573",
     "exception": false,
     "start_time": "2022-04-09T03:33:27.833376",
     "status": "completed"
    },
    "tags": []
   },
   "outputs": [],
   "source": [
    "y_pred = classifier.predict(X_test)"
   ]
  },
  {
   "cell_type": "code",
   "execution_count": 31,
   "metadata": {
    "execution": {
     "iopub.execute_input": "2022-04-09T03:28:17.399758Z",
     "iopub.status.busy": "2022-04-09T03:28:17.398962Z",
     "iopub.status.idle": "2022-04-09T03:28:17.407634Z",
     "shell.execute_reply": "2022-04-09T03:28:17.406493Z",
     "shell.execute_reply.started": "2022-04-09T03:28:17.399676Z"
    },
    "papermill": {
     "duration": 0.049435,
     "end_time": "2022-04-09T03:33:27.975506",
     "exception": false,
     "start_time": "2022-04-09T03:33:27.926071",
     "status": "completed"
    },
    "tags": []
   },
   "outputs": [
    {
     "name": "stdout",
     "output_type": "stream",
     "text": [
      "Acurácia de 0.7808988764044944\n"
     ]
    }
   ],
   "source": [
    "from sklearn.metrics import accuracy_score\n",
    "print('Acurácia de ' + str(accuracy_score(y_test, y_pred)))"
   ]
  },
  {
   "cell_type": "code",
   "execution_count": 32,
   "metadata": {
    "execution": {
     "iopub.execute_input": "2022-04-09T03:28:17.41337Z",
     "iopub.status.busy": "2022-04-09T03:28:17.412832Z",
     "iopub.status.idle": "2022-04-09T03:28:17.436136Z",
     "shell.execute_reply": "2022-04-09T03:28:17.434721Z",
     "shell.execute_reply.started": "2022-04-09T03:28:17.413317Z"
    },
    "papermill": {
     "duration": 0.061961,
     "end_time": "2022-04-09T03:33:28.078889",
     "exception": false,
     "start_time": "2022-04-09T03:33:28.016928",
     "status": "completed"
    },
    "tags": []
   },
   "outputs": [
    {
     "data": {
      "text/html": [
       "<div>\n",
       "<style scoped>\n",
       "    .dataframe tbody tr th:only-of-type {\n",
       "        vertical-align: middle;\n",
       "    }\n",
       "\n",
       "    .dataframe tbody tr th {\n",
       "        vertical-align: top;\n",
       "    }\n",
       "\n",
       "    .dataframe thead th {\n",
       "        text-align: right;\n",
       "    }\n",
       "</style>\n",
       "<table border=\"1\" class=\"dataframe\">\n",
       "  <thead>\n",
       "    <tr style=\"text-align: right;\">\n",
       "      <th></th>\n",
       "      <th>Name</th>\n",
       "      <th>Pclass</th>\n",
       "      <th>Age</th>\n",
       "      <th>Siblings/Spouses Aboard</th>\n",
       "      <th>Parents/Children Aboard</th>\n",
       "      <th>SexNum</th>\n",
       "    </tr>\n",
       "  </thead>\n",
       "  <tbody>\n",
       "    <tr>\n",
       "      <th>0</th>\n",
       "      <td>Gustavo Costa</td>\n",
       "      <td>3</td>\n",
       "      <td>43</td>\n",
       "      <td>1</td>\n",
       "      <td>2</td>\n",
       "      <td>1</td>\n",
       "    </tr>\n",
       "    <tr>\n",
       "      <th>1</th>\n",
       "      <td>Cláudia Oliveira</td>\n",
       "      <td>3</td>\n",
       "      <td>34</td>\n",
       "      <td>1</td>\n",
       "      <td>0</td>\n",
       "      <td>0</td>\n",
       "    </tr>\n",
       "    <tr>\n",
       "      <th>2</th>\n",
       "      <td>Matheus Reck</td>\n",
       "      <td>2</td>\n",
       "      <td>38</td>\n",
       "      <td>1</td>\n",
       "      <td>0</td>\n",
       "      <td>1</td>\n",
       "    </tr>\n",
       "    <tr>\n",
       "      <th>3</th>\n",
       "      <td>Vinícius Valim</td>\n",
       "      <td>1</td>\n",
       "      <td>38</td>\n",
       "      <td>0</td>\n",
       "      <td>0</td>\n",
       "      <td>1</td>\n",
       "    </tr>\n",
       "    <tr>\n",
       "      <th>4</th>\n",
       "      <td>Amanda</td>\n",
       "      <td>1</td>\n",
       "      <td>36</td>\n",
       "      <td>0</td>\n",
       "      <td>0</td>\n",
       "      <td>0</td>\n",
       "    </tr>\n",
       "    <tr>\n",
       "      <th>5</th>\n",
       "      <td>Guilherme</td>\n",
       "      <td>2</td>\n",
       "      <td>9</td>\n",
       "      <td>0</td>\n",
       "      <td>0</td>\n",
       "      <td>1</td>\n",
       "    </tr>\n",
       "    <tr>\n",
       "      <th>6</th>\n",
       "      <td>Derci Gonçalves</td>\n",
       "      <td>1</td>\n",
       "      <td>87</td>\n",
       "      <td>0</td>\n",
       "      <td>0</td>\n",
       "      <td>0</td>\n",
       "    </tr>\n",
       "  </tbody>\n",
       "</table>\n",
       "</div>"
      ],
      "text/plain": [
       "               Name  Pclass  Age  Siblings/Spouses Aboard  \\\n",
       "0     Gustavo Costa       3   43                        1   \n",
       "1  Cláudia Oliveira       3   34                        1   \n",
       "2      Matheus Reck       2   38                        1   \n",
       "3    Vinícius Valim       1   38                        0   \n",
       "4            Amanda       1   36                        0   \n",
       "5         Guilherme       2    9                        0   \n",
       "6   Derci Gonçalves       1   87                        0   \n",
       "\n",
       "   Parents/Children Aboard  SexNum  \n",
       "0                        2       1  \n",
       "1                        0       0  \n",
       "2                        0       1  \n",
       "3                        0       1  \n",
       "4                        0       0  \n",
       "5                        0       1  \n",
       "6                        0       0  "
      ]
     },
     "execution_count": 32,
     "metadata": {},
     "output_type": "execute_result"
    }
   ],
   "source": [
    "novo_navio = {'Name': ['Gustavo Costa','Cláudia Oliveira','Matheus Reck','Vinícius Valim','Amanda','Guilherme','Derci Gonçalves'],\n",
    "              'Pclass': [3,3,2,1,1,2,1],\n",
    "              'Age': [43,34,38,38,36,9,87],\n",
    "              'Siblings/Spouses Aboard': [1,1,1,0,0,0,0],\n",
    "              'Parents/Children Aboard': [2,0,0,0,0,0,0],\n",
    "              'SexNum': [1,0,1,1,0,1,0]\n",
    "              }\n",
    "\n",
    "df_novo_navio = pd.DataFrame(novo_navio, columns = ['Name', 'Pclass', 'Age', 'Siblings/Spouses Aboard', 'Parents/Children Aboard', 'SexNum'])\n",
    "df_novo_navio"
   ]
  },
  {
   "cell_type": "code",
   "execution_count": 33,
   "metadata": {
    "execution": {
     "iopub.execute_input": "2022-04-09T03:28:17.43868Z",
     "iopub.status.busy": "2022-04-09T03:28:17.438028Z",
     "iopub.status.idle": "2022-04-09T03:28:17.450932Z",
     "shell.execute_reply": "2022-04-09T03:28:17.450022Z",
     "shell.execute_reply.started": "2022-04-09T03:28:17.43861Z"
    },
    "papermill": {
     "duration": 0.048321,
     "end_time": "2022-04-09T03:33:28.168422",
     "exception": false,
     "start_time": "2022-04-09T03:33:28.120101",
     "status": "completed"
    },
    "tags": []
   },
   "outputs": [],
   "source": [
    "new_X = df_novo_navio.iloc[:,1:].values"
   ]
  },
  {
   "cell_type": "code",
   "execution_count": 34,
   "metadata": {
    "execution": {
     "iopub.execute_input": "2022-04-09T03:28:17.453228Z",
     "iopub.status.busy": "2022-04-09T03:28:17.452501Z",
     "iopub.status.idle": "2022-04-09T03:28:17.467982Z",
     "shell.execute_reply": "2022-04-09T03:28:17.466929Z",
     "shell.execute_reply.started": "2022-04-09T03:28:17.453165Z"
    },
    "papermill": {
     "duration": 0.05179,
     "end_time": "2022-04-09T03:33:28.260511",
     "exception": false,
     "start_time": "2022-04-09T03:33:28.208721",
     "status": "completed"
    },
    "tags": []
   },
   "outputs": [
    {
     "data": {
      "text/plain": [
       "array([0, 0, 0, 0, 1, 1, 0])"
      ]
     },
     "execution_count": 34,
     "metadata": {},
     "output_type": "execute_result"
    }
   ],
   "source": [
    "new_y = classifier.predict(new_X)\n",
    "new_y"
   ]
  },
  {
   "cell_type": "code",
   "execution_count": 35,
   "metadata": {
    "execution": {
     "iopub.execute_input": "2022-04-09T03:28:17.470674Z",
     "iopub.status.busy": "2022-04-09T03:28:17.469849Z",
     "iopub.status.idle": "2022-04-09T03:28:17.510949Z",
     "shell.execute_reply": "2022-04-09T03:28:17.510102Z",
     "shell.execute_reply.started": "2022-04-09T03:28:17.470609Z"
    },
    "papermill": {
     "duration": 0.074274,
     "end_time": "2022-04-09T03:33:28.375634",
     "exception": false,
     "start_time": "2022-04-09T03:33:28.301360",
     "status": "completed"
    },
    "tags": []
   },
   "outputs": [
    {
     "data": {
      "text/html": [
       "<div>\n",
       "<style scoped>\n",
       "    .dataframe tbody tr th:only-of-type {\n",
       "        vertical-align: middle;\n",
       "    }\n",
       "\n",
       "    .dataframe tbody tr th {\n",
       "        vertical-align: top;\n",
       "    }\n",
       "\n",
       "    .dataframe thead th {\n",
       "        text-align: right;\n",
       "    }\n",
       "</style>\n",
       "<table border=\"1\" class=\"dataframe\">\n",
       "  <thead>\n",
       "    <tr style=\"text-align: right;\">\n",
       "      <th></th>\n",
       "      <th>Name</th>\n",
       "      <th>Pclass</th>\n",
       "      <th>Age</th>\n",
       "      <th>Siblings/Spouses Aboard</th>\n",
       "      <th>Parents/Children Aboard</th>\n",
       "      <th>SexNum</th>\n",
       "      <th>Survived</th>\n",
       "      <th>Diff Age</th>\n",
       "    </tr>\n",
       "  </thead>\n",
       "  <tbody>\n",
       "    <tr>\n",
       "      <th>0</th>\n",
       "      <td>Gustavo Costa</td>\n",
       "      <td>3</td>\n",
       "      <td>43</td>\n",
       "      <td>1</td>\n",
       "      <td>2</td>\n",
       "      <td>1</td>\n",
       "      <td>0</td>\n",
       "      <td>15</td>\n",
       "    </tr>\n",
       "    <tr>\n",
       "      <th>1</th>\n",
       "      <td>Cláudia Oliveira</td>\n",
       "      <td>3</td>\n",
       "      <td>34</td>\n",
       "      <td>1</td>\n",
       "      <td>0</td>\n",
       "      <td>0</td>\n",
       "      <td>0</td>\n",
       "      <td>6</td>\n",
       "    </tr>\n",
       "    <tr>\n",
       "      <th>2</th>\n",
       "      <td>Matheus Reck</td>\n",
       "      <td>2</td>\n",
       "      <td>38</td>\n",
       "      <td>1</td>\n",
       "      <td>0</td>\n",
       "      <td>1</td>\n",
       "      <td>0</td>\n",
       "      <td>10</td>\n",
       "    </tr>\n",
       "    <tr>\n",
       "      <th>3</th>\n",
       "      <td>Vinícius Valim</td>\n",
       "      <td>1</td>\n",
       "      <td>38</td>\n",
       "      <td>0</td>\n",
       "      <td>0</td>\n",
       "      <td>1</td>\n",
       "      <td>0</td>\n",
       "      <td>10</td>\n",
       "    </tr>\n",
       "    <tr>\n",
       "      <th>4</th>\n",
       "      <td>Amanda</td>\n",
       "      <td>1</td>\n",
       "      <td>36</td>\n",
       "      <td>0</td>\n",
       "      <td>0</td>\n",
       "      <td>0</td>\n",
       "      <td>1</td>\n",
       "      <td>8</td>\n",
       "    </tr>\n",
       "    <tr>\n",
       "      <th>5</th>\n",
       "      <td>Guilherme</td>\n",
       "      <td>2</td>\n",
       "      <td>9</td>\n",
       "      <td>0</td>\n",
       "      <td>0</td>\n",
       "      <td>1</td>\n",
       "      <td>1</td>\n",
       "      <td>-19</td>\n",
       "    </tr>\n",
       "    <tr>\n",
       "      <th>6</th>\n",
       "      <td>Derci Gonçalves</td>\n",
       "      <td>1</td>\n",
       "      <td>87</td>\n",
       "      <td>0</td>\n",
       "      <td>0</td>\n",
       "      <td>0</td>\n",
       "      <td>0</td>\n",
       "      <td>59</td>\n",
       "    </tr>\n",
       "  </tbody>\n",
       "</table>\n",
       "</div>"
      ],
      "text/plain": [
       "               Name  Pclass  Age  Siblings/Spouses Aboard  \\\n",
       "0     Gustavo Costa       3   43                        1   \n",
       "1  Cláudia Oliveira       3   34                        1   \n",
       "2      Matheus Reck       2   38                        1   \n",
       "3    Vinícius Valim       1   38                        0   \n",
       "4            Amanda       1   36                        0   \n",
       "5         Guilherme       2    9                        0   \n",
       "6   Derci Gonçalves       1   87                        0   \n",
       "\n",
       "   Parents/Children Aboard  SexNum  Survived  Diff Age  \n",
       "0                        2       1         0        15  \n",
       "1                        0       0         0         6  \n",
       "2                        0       1         0        10  \n",
       "3                        0       1         0        10  \n",
       "4                        0       0         1         8  \n",
       "5                        0       1         1       -19  \n",
       "6                        0       0         0        59  "
      ]
     },
     "execution_count": 35,
     "metadata": {},
     "output_type": "execute_result"
    }
   ],
   "source": [
    "df_novo_navio['Survived'] = new_y\n",
    "df_novo_navio['Diff Age'] = df_novo_navio['Age']-28\n",
    "df_novo_navio"
   ]
  },
  {
   "cell_type": "markdown",
   "metadata": {
    "papermill": {
     "duration": 0.040726,
     "end_time": "2022-04-09T03:33:28.457265",
     "exception": false,
     "start_time": "2022-04-09T03:33:28.416539",
     "status": "completed"
    },
    "tags": []
   },
   "source": [
    "Rodamos abaixo um exemplo de ordenação por Risco de Vida, considerando as ordem dos passageiros por Survived (resultante do modelo KNN), Pclass, SexNum, Siblings/Spouses Aboard, Parents/Children Aboard e Diff Age (Diferença da idade para a mediana: 28 anos)."
   ]
  },
  {
   "cell_type": "code",
   "execution_count": 36,
   "metadata": {
    "execution": {
     "iopub.execute_input": "2022-04-09T03:28:17.515313Z",
     "iopub.status.busy": "2022-04-09T03:28:17.514664Z",
     "iopub.status.idle": "2022-04-09T03:28:17.535955Z",
     "shell.execute_reply": "2022-04-09T03:28:17.534882Z",
     "shell.execute_reply.started": "2022-04-09T03:28:17.515263Z"
    },
    "papermill": {
     "duration": 0.061009,
     "end_time": "2022-04-09T03:33:28.559487",
     "exception": false,
     "start_time": "2022-04-09T03:33:28.498478",
     "status": "completed"
    },
    "tags": []
   },
   "outputs": [
    {
     "data": {
      "text/html": [
       "<div>\n",
       "<style scoped>\n",
       "    .dataframe tbody tr th:only-of-type {\n",
       "        vertical-align: middle;\n",
       "    }\n",
       "\n",
       "    .dataframe tbody tr th {\n",
       "        vertical-align: top;\n",
       "    }\n",
       "\n",
       "    .dataframe thead th {\n",
       "        text-align: right;\n",
       "    }\n",
       "</style>\n",
       "<table border=\"1\" class=\"dataframe\">\n",
       "  <thead>\n",
       "    <tr style=\"text-align: right;\">\n",
       "      <th></th>\n",
       "      <th>Name</th>\n",
       "      <th>Pclass</th>\n",
       "      <th>Age</th>\n",
       "      <th>Siblings/Spouses Aboard</th>\n",
       "      <th>Parents/Children Aboard</th>\n",
       "      <th>SexNum</th>\n",
       "      <th>Survived</th>\n",
       "      <th>Diff Age</th>\n",
       "    </tr>\n",
       "  </thead>\n",
       "  <tbody>\n",
       "    <tr>\n",
       "      <th>4</th>\n",
       "      <td>Amanda</td>\n",
       "      <td>1</td>\n",
       "      <td>36</td>\n",
       "      <td>0</td>\n",
       "      <td>0</td>\n",
       "      <td>0</td>\n",
       "      <td>1</td>\n",
       "      <td>8</td>\n",
       "    </tr>\n",
       "    <tr>\n",
       "      <th>5</th>\n",
       "      <td>Guilherme</td>\n",
       "      <td>2</td>\n",
       "      <td>9</td>\n",
       "      <td>0</td>\n",
       "      <td>0</td>\n",
       "      <td>1</td>\n",
       "      <td>1</td>\n",
       "      <td>-19</td>\n",
       "    </tr>\n",
       "    <tr>\n",
       "      <th>3</th>\n",
       "      <td>Vinícius Valim</td>\n",
       "      <td>1</td>\n",
       "      <td>38</td>\n",
       "      <td>0</td>\n",
       "      <td>0</td>\n",
       "      <td>1</td>\n",
       "      <td>0</td>\n",
       "      <td>10</td>\n",
       "    </tr>\n",
       "    <tr>\n",
       "      <th>6</th>\n",
       "      <td>Derci Gonçalves</td>\n",
       "      <td>1</td>\n",
       "      <td>87</td>\n",
       "      <td>0</td>\n",
       "      <td>0</td>\n",
       "      <td>0</td>\n",
       "      <td>0</td>\n",
       "      <td>59</td>\n",
       "    </tr>\n",
       "    <tr>\n",
       "      <th>2</th>\n",
       "      <td>Matheus Reck</td>\n",
       "      <td>2</td>\n",
       "      <td>38</td>\n",
       "      <td>1</td>\n",
       "      <td>0</td>\n",
       "      <td>1</td>\n",
       "      <td>0</td>\n",
       "      <td>10</td>\n",
       "    </tr>\n",
       "    <tr>\n",
       "      <th>0</th>\n",
       "      <td>Gustavo Costa</td>\n",
       "      <td>3</td>\n",
       "      <td>43</td>\n",
       "      <td>1</td>\n",
       "      <td>2</td>\n",
       "      <td>1</td>\n",
       "      <td>0</td>\n",
       "      <td>15</td>\n",
       "    </tr>\n",
       "    <tr>\n",
       "      <th>1</th>\n",
       "      <td>Cláudia Oliveira</td>\n",
       "      <td>3</td>\n",
       "      <td>34</td>\n",
       "      <td>1</td>\n",
       "      <td>0</td>\n",
       "      <td>0</td>\n",
       "      <td>0</td>\n",
       "      <td>6</td>\n",
       "    </tr>\n",
       "  </tbody>\n",
       "</table>\n",
       "</div>"
      ],
      "text/plain": [
       "               Name  Pclass  Age  Siblings/Spouses Aboard  \\\n",
       "4            Amanda       1   36                        0   \n",
       "5         Guilherme       2    9                        0   \n",
       "3    Vinícius Valim       1   38                        0   \n",
       "6   Derci Gonçalves       1   87                        0   \n",
       "2      Matheus Reck       2   38                        1   \n",
       "0     Gustavo Costa       3   43                        1   \n",
       "1  Cláudia Oliveira       3   34                        1   \n",
       "\n",
       "   Parents/Children Aboard  SexNum  Survived  Diff Age  \n",
       "4                        0       0         1         8  \n",
       "5                        0       1         1       -19  \n",
       "3                        0       1         0        10  \n",
       "6                        0       0         0        59  \n",
       "2                        0       1         0        10  \n",
       "0                        2       1         0        15  \n",
       "1                        0       0         0         6  "
      ]
     },
     "execution_count": 36,
     "metadata": {},
     "output_type": "execute_result"
    }
   ],
   "source": [
    "df_novo_navio.sort_values(by=['Survived', 'Pclass', 'SexNum', 'Siblings/Spouses Aboard', 'Parents/Children Aboard', 'Diff Age'], ascending=[0, 1, 0, 1, 1, 0])"
   ]
  },
  {
   "cell_type": "markdown",
   "metadata": {
    "papermill": {
     "duration": 0.040705,
     "end_time": "2022-04-09T03:33:28.641230",
     "exception": false,
     "start_time": "2022-04-09T03:33:28.600525",
     "status": "completed"
    },
    "tags": []
   },
   "source": [
    "Pelo modelo, dá a entender que os parâmetros que mais influenciam na chance de sobreviver são a Classe e quantidade de parentes a bordo."
   ]
  }
 ],
 "metadata": {
  "kernelspec": {
   "display_name": "Python 3",
   "language": "python",
   "name": "python3"
  },
  "language_info": {
   "codemirror_mode": {
    "name": "ipython",
    "version": 3
   },
   "file_extension": ".py",
   "mimetype": "text/x-python",
   "name": "python",
   "nbconvert_exporter": "python",
   "pygments_lexer": "ipython3",
   "version": "3.7.6"
  },
  "papermill": {
   "duration": 13.782739,
   "end_time": "2022-04-09T03:33:29.289135",
   "environment_variables": {},
   "exception": null,
   "input_path": "__notebook__.ipynb",
   "output_path": "__notebook__.ipynb",
   "parameters": {},
   "start_time": "2022-04-09T03:33:15.506396",
   "version": "1.2.1"
  }
 },
 "nbformat": 4,
 "nbformat_minor": 4
}
